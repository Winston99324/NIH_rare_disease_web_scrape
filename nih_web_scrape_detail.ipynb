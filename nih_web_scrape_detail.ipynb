{
 "cells": [
  {
   "cell_type": "code",
   "execution_count": null,
   "metadata": {},
   "outputs": [],
   "source": [
    "from bs4 import BeautifulSoup, NavigableString\n",
    "import time\n",
    "import json \n",
    "import requests\n",
    "from tqdm import tqdm \n",
    "\n",
    "with open(\"./diseases.json\", \"r\", encoding=\"utf-8\") as file:\n",
    "    diseases_data = json.load(file)\n",
    "\n",
    "headers = {\n",
    "    \"User-Agent\": \"Mozilla/5.0 (Windows NT 10.0; Win64; x64) AppleWebKit/537.36 (KHTML, like Gecko) Chrome/91.0.4472.124 Safari/537.36\"\n",
    "}"
   ]
  },
  {
   "cell_type": "code",
   "execution_count": null,
   "metadata": {},
   "outputs": [],
   "source": [
    "def extract_info_section(info_section):\n",
    "    data = {}\n",
    "    if not info_section:\n",
    "        return data\n",
    "    \n",
    "    for li in info_section.find_all('li'):\n",
    "        li_wrap = li.find('div', class_='li-wrap')\n",
    "        if not li_wrap:\n",
    "            continue\n",
    "        \n",
    "        \n",
    "        strong_tag = li_wrap.find('strong')\n",
    "        if not strong_tag:\n",
    "            continue\n",
    "        field_name = strong_tag.get_text(strip=True).rstrip(':')\n",
    "\n",
    "        \n",
    "        if field_name == \"Categories\":\n",
    "            categories = []\n",
    "\n",
    "            for category_span in li_wrap.find_all('span', class_='text-bluegray', recursive=False):\n",
    "                category_parts = [span.get_text(strip=True) for span in category_span.find_all('span')]\n",
    "                categories.append(' '.join(category_parts))\n",
    "            data[field_name] = categories\n",
    "        else:\n",
    "          \n",
    "            spans = li_wrap.find_all('span', class_='text-bluegray')\n",
    "            field_value = ' '.join([span.get_text(strip=True) for span in spans])\n",
    "            data[field_name] = field_value\n",
    "    \n",
    "    return data"
   ]
  },
  {
   "cell_type": "code",
   "execution_count": null,
   "metadata": {},
   "outputs": [],
   "source": [
    "extended_data = []\n",
    "\n",
    "for disease in tqdm(diseases_data, desc=\"Scraping diseases\"):\n",
    "    disease_name = disease[\"disease_name\"]\n",
    "    disease_url = disease[\"disease_url\"]\n",
    "    disease_nickname = disease[\"other_names\"]\n",
    "\n",
    "    try:\n",
    "        response = requests.get(disease_url, headers=headers, timeout=10)\n",
    "        response.encoding = 'utf-8'  \n",
    "        response.raise_for_status()\n",
    "        soup = BeautifulSoup(response.text, \"html.parser\")\n",
    "\n",
    "        summary_tag = soup.find(\"div\", class_=\"fs-md-18 mb-5\")\n",
    "        summary = summary_tag.get_text(strip=True) if summary_tag else \"N/A\"\n",
    "\n",
    "        info_section = soup.find(\"div\", class_=\"snippets-wrapper\")\n",
    "\n",
    "        info_data = extract_info_section(info_section)\n",
    "\n",
    "\n",
    "        population_estimate = info_data.get(\"Population Estimate\", \"N/A\")\n",
    "        symptoms = info_data.get(\"Symptoms\", \"N/A\")\n",
    "        cause = info_data.get(\"Cause\", \"N/A\")\n",
    "        organizations = info_data.get(\"Organizations\", \"N/A\")\n",
    "        categories = info_data.get(\"Categories\", \"N/A\")\n",
    "\n",
    "        \n",
    "\n",
    "        extended_data.append({\n",
    "            \"disease_name\": disease_name,\n",
    "            \"disease_url\": disease_url,\n",
    "            \"other_names\": disease_nickname, \n",
    "            \"summary\": summary,\n",
    "            \"population_estimate\": population_estimate,\n",
    "            \"symptoms\": symptoms,\n",
    "            \"cause\": cause,\n",
    "            \"organizations\": organizations,\n",
    "            \"categories\": categories  \n",
    "        })\n",
    "\n",
    "    except requests.exceptions.RequestException as e:\n",
    "        print(f\"Error scraping {disease_name}: {e}\")"
   ]
  },
  {
   "cell_type": "code",
   "execution_count": null,
   "metadata": {},
   "outputs": [],
   "source": [
    "with open(\"./disease_detailed.json\", \"w\", encoding=\"utf-8\") as file:\n",
    "    json.dump(extended_data, file, indent=4, ensure_ascii=False)"
   ]
  },
  {
   "cell_type": "code",
   "execution_count": null,
   "metadata": {},
   "outputs": [],
   "source": []
  }
 ],
 "metadata": {
  "kernelspec": {
   "display_name": "Python 3",
   "language": "python",
   "name": "python3"
  },
  "language_info": {
   "codemirror_mode": {
    "name": "ipython",
    "version": 3
   },
   "file_extension": ".py",
   "mimetype": "text/x-python",
   "name": "python",
   "nbconvert_exporter": "python",
   "pygments_lexer": "ipython3",
   "version": "3.8.12"
  }
 },
 "nbformat": 4,
 "nbformat_minor": 2
}
