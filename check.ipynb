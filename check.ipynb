{
 "cells": [
  {
   "cell_type": "code",
   "execution_count": 4,
   "metadata": {},
   "outputs": [],
   "source": [
    "import json \n",
    "\n",
    "\n",
    "with open(\"./disease_detailed.json\", \"r\", encoding=\"utf-8\") as file:\n",
    "    diseases_data = json.load(file)"
   ]
  },
  {
   "cell_type": "code",
   "execution_count": 6,
   "metadata": {},
   "outputs": [
    {
     "data": {
      "text/plain": [
       "[{'disease_name': '11p15.4 microduplication syndrome',\n",
       "  'disease_url': 'https://rarediseases.info.nih.gov/diseases/21232/11p154-microduplication-syndrome',\n",
       "  'other_names': 'dup(11)p(15.4);  trisomy 11p15.4',\n",
       "  'summary': 'A rare partial autosomal trisomy/tetrasomy characterized by obesity, global developmental delay and intellectual disability, facial dysmorphism (synophrys, high-arched eyebrows, large posteriorly rotated ears, upturned nose, long smooth philtrum, overbite and high palate), large hands and limb hypotonia. Additional features include seizures and behavioral abnormalities.',\n",
       "  'population_estimate': 'Fewer than 1,000 people in the U.S. have this disease.',\n",
       "  'symptoms': 'May start to appear as a Newborn and as an Infant.',\n",
       "  'cause': 'This disease is caused by changes to the number or structure of a person’s chromosomes.',\n",
       "  'organizations': 'Patient organizations are available to help find a specialist, or advocacy and support for this specific disease.',\n",
       "  'categories': ['Genetic diseases diseases',\n",
       "   'Neurological diseases diseases',\n",
       "   'Endocrine diseases diseases',\n",
       "   'Birth defects defects']},\n",
       " {'disease_name': '11q22.2q22.3 microdeletion syndrome',\n",
       "  'disease_url': 'https://rarediseases.info.nih.gov/diseases/21858/11q222q223-microdeletion-syndrome',\n",
       "  'other_names': '11q22.2-q22.3 deletion syndrome;  Del(11)(q22.2q22.3);  monosomy 11q22.2-q22.3;  monosomy 11q22.2q22.3',\n",
       "  'summary': '11q22.2q22.3 microdeletion syndrome is a rare chromosomal anomaly characterized by mild intellectual disability, developmental delay, short stature, hypotonia and dysmorphic facial features. Anxiety and short attention span have also been reported.',\n",
       "  'population_estimate': 'Fewer than 1,000 people in the U.S. have this disease.',\n",
       "  'symptoms': 'May start to appear as a Newborn and as an Infant.',\n",
       "  'cause': 'This disease is caused by changes to the number or structure of a person’s chromosomes.',\n",
       "  'organizations': 'Patient organizations are available to help find a specialist, or advocacy and support for this specific disease.',\n",
       "  'categories': ['Genetic diseases diseases',\n",
       "   'Neurological diseases diseases',\n",
       "   'Birth defects defects']},\n",
       " {'disease_name': '12q14 microdeletion syndrome',\n",
       "  'disease_url': 'https://rarediseases.info.nih.gov/diseases/13390/12q14-microdeletion-syndrome',\n",
       "  'other_names': 'Del(12)(q14);  deletion 12q14;  monosomy 12q14;  osteopoikilosis-short stature-intellectual disability syndrome',\n",
       "  'summary': '12q14 microdeletion syndrome is a genetic syndrome caused by a missing piece of chromosome 12. The signs and symptoms depend on the size of the missing piece and the genes involved, but generally include growth delay, short stature and feeding difficulties. When this syndrome is inherited, it is passed on in a dominant pattern. It can be diagnosed through a genetic test, either a chromosomal microarray or whole exome sequencing.',\n",
       "  'population_estimate': 'Fewer than 1,000 people in the U.S. have this disease.',\n",
       "  'symptoms': 'May start to appear as a Child.',\n",
       "  'cause': 'This disease is caused by changes to the number or structure of a person’s chromosomes.',\n",
       "  'organizations': 'Patient organizations are available to help find a specialist, or advocacy and support for this specific disease.',\n",
       "  'categories': ['Genetic diseases diseases',\n",
       "   'Neurological diseases diseases',\n",
       "   'Birth defects defects']},\n",
       " {'disease_name': '12q15q21.1 microdeletion syndrome',\n",
       "  'disease_url': 'https://rarediseases.info.nih.gov/diseases/21141/12q15q211-microdeletion-syndrome',\n",
       "  'other_names': 'Del(12)(q15)(q21.1);  deletion 12q15q21.1;  monosomy 12q15q21.1',\n",
       "  'summary': '12q15q21.1 microdeletion syndrome is a rare chromosomal anomaly syndrome resulting from a partial deletion of the long arm of chromosome 12, with a highly variable phenotype, typically characterized by developmental delay, learning disability, intra-uterine and postnatal growth retardation, and mild facial dysmorphism that changes with age. Nasal speech and hypothyroidism are also associated.',\n",
       "  'population_estimate': 'Fewer than 1,000 people in the U.S. have this disease.',\n",
       "  'symptoms': 'May start to appear as a Newborn and as an Infant.',\n",
       "  'cause': 'This disease is caused by changes to the number or structure of a person’s chromosomes.',\n",
       "  'organizations': 'Patient organizations are available to help find a specialist, or advocacy and support for this specific disease.',\n",
       "  'categories': ['Genetic diseases diseases', 'Birth defects defects']}]"
      ]
     },
     "execution_count": 6,
     "metadata": {},
     "output_type": "execute_result"
    }
   ],
   "source": [
    "diseases_data[1:5]"
   ]
  },
  {
   "cell_type": "code",
   "execution_count": 7,
   "metadata": {},
   "outputs": [],
   "source": [
    "expanded_list = []\n",
    "for disease in diseases_data:\n",
    "    disease_name = disease[\"disease_name\"]\n",
    "    other_names = disease[\"other_names\"].split(\"; \") if disease[\"other_names\"] else []\n",
    "    categories = disease[\"categories\"]\n",
    "\n",
    "    expanded_list.append({\"name\": disease_name, \"categories\": categories})\n",
    "    for other_name in other_names:\n",
    "            expanded_list.append({\"name\": other_name, \"categories\": categories})\n"
   ]
  },
  {
   "cell_type": "code",
   "execution_count": 9,
   "metadata": {},
   "outputs": [
    {
     "data": {
      "text/plain": [
       "27361"
      ]
     },
     "execution_count": 9,
     "metadata": {},
     "output_type": "execute_result"
    }
   ],
   "source": [
    "len(expanded_list)"
   ]
  },
  {
   "cell_type": "code",
   "execution_count": 10,
   "metadata": {},
   "outputs": [],
   "source": [
    "with open(\"./all_name.json\", \"w\", encoding=\"utf-8\") as file:\n",
    "    json.dump(expanded_list, file, indent=4, ensure_ascii=False)"
   ]
  },
  {
   "cell_type": "code",
   "execution_count": null,
   "metadata": {},
   "outputs": [],
   "source": []
  }
 ],
 "metadata": {
  "kernelspec": {
   "display_name": "Python 3",
   "language": "python",
   "name": "python3"
  },
  "language_info": {
   "codemirror_mode": {
    "name": "ipython",
    "version": 3
   },
   "file_extension": ".py",
   "mimetype": "text/x-python",
   "name": "python",
   "nbconvert_exporter": "python",
   "pygments_lexer": "ipython3",
   "version": "3.8.12"
  }
 },
 "nbformat": 4,
 "nbformat_minor": 2
}
