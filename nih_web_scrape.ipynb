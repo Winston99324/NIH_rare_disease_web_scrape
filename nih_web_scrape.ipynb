{
 "cells": [
  {
   "cell_type": "markdown",
   "metadata": {},
   "source": [
    "#This code is for scraping rare diseases from NIH genetic and rare disease database (GARD)"
   ]
  },
  {
   "cell_type": "code",
   "execution_count": null,
   "metadata": {},
   "outputs": [],
   "source": [
    "from selenium import webdriver\n",
    "from selenium.webdriver.common.by import By\n",
    "from selenium.webdriver.chrome.service import Service\n",
    "from webdriver_manager.chrome import ChromeDriverManager\n",
    "\n",
    "from bs4 import BeautifulSoup\n",
    "import time\n",
    "import json \n",
    "\n",
    "service = Service(ChromeDriverManager().install())\n",
    "options = webdriver.ChromeOptions()\n",
    "options.add_argument(\"--headless\")  \n",
    "driver = webdriver.Chrome(service=service, options=options)\n",
    "\n",
    "diseases_data = []\n",
    "\n",
    "for page in range(1, 615):  \n",
    "    url = f\"https://rarediseases.info.nih.gov/diseases?page={page}&search=&letter=&category=\"\n",
    "    #print(url)\n",
    "    \n",
    "    driver.get(url)\n",
    "    time.sleep(1)  \n",
    "    \n",
    "    soup = BeautifulSoup(driver.page_source, \"html.parser\")\n",
    "    disease_divs = soup.find_all(\"div\", class_=\"result mb-5 cursor-pointer\")\n",
    "\n",
    "    for div in disease_divs:\n",
    "        name_tag = div.find(\"h5\")\n",
    "        disease_name = name_tag.text.strip() if name_tag else \"N/A\"\n",
    "        \n",
    "        link_tag = div.find(\"a\")\n",
    "        disease_url = f\"https://rarediseases.info.nih.gov/{link_tag['href']}\" if link_tag else \"N/A\"\n",
    "\n",
    "        other_names_tag = div.find(\"p\")\n",
    "        other_names = \"N/A\"\n",
    "        if other_names_tag:\n",
    "            text = other_names_tag.text.strip()\n",
    "            if \"Other names:\" in text:\n",
    "                other_names = text.split(\"Other names:\")[1].strip()\n",
    "        \n",
    "        diseases_data.append({\n",
    "            \"disease_name\": disease_name,\n",
    "            \"disease_url\": disease_url,\n",
    "            \"other_names\": other_names\n",
    "        })\n",
    "    \n",
    "    \n",
    "    \n",
    "driver.quit()\n",
    "#print(diseases_data)\n"
   ]
  },
  {
   "cell_type": "code",
   "execution_count": null,
   "metadata": {},
   "outputs": [],
   "source": [
    "print(len(diseases_data))"
   ]
  },
  {
   "cell_type": "code",
   "execution_count": null,
   "metadata": {},
   "outputs": [],
   "source": [
    "with open(\"diseases.json\", \"w\", encoding=\"utf-8\") as json_file:\n",
    "    json.dump(diseases_data, json_file, indent=4, ensure_ascii=False)"
   ]
  },
  {
   "cell_type": "code",
   "execution_count": null,
   "metadata": {},
   "outputs": [],
   "source": []
  }
 ],
 "metadata": {
  "kernelspec": {
   "display_name": "Python 3",
   "language": "python",
   "name": "python3"
  },
  "language_info": {
   "codemirror_mode": {
    "name": "ipython",
    "version": 3
   },
   "file_extension": ".py",
   "mimetype": "text/x-python",
   "name": "python",
   "nbconvert_exporter": "python",
   "pygments_lexer": "ipython3",
   "version": "3.8.12"
  }
 },
 "nbformat": 4,
 "nbformat_minor": 2
}
